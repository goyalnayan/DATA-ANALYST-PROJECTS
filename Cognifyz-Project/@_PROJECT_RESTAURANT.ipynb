{
 "cells": [
  {
   "cell_type": "markdown",
   "id": "922a2513",
   "metadata": {},
   "source": [
    "# <font color = orange> 1. Business Problem Understanding </font> \n",
    "\n",
    "## Level 1 = Task 1\n",
    "#### Task: Top Cuisines\n",
    "- Determine the top three most common cuisines in the dataset.\n",
    "- Calculate the percentage of restaurants that serve each of the top cuisines.\n",
    "\n",
    "## Level 1 = Task 2\n",
    "#### Task: City Analysis\n",
    "- Identify the city with the highest number of restaurants in the dataset.\n",
    "- Calculate the average rating for restaurants in each city.\n",
    "- Determine the city with the highest average rating.\n",
    "\n",
    "## Level 1 = Task 3\n",
    "#### Task: Price Range Distribution\n",
    "- Create a histogram or bar chart to visualize the distribution of price ranges among the restaurants.\n",
    "- Calculate the percentage of restaurants in each price range category\n",
    "\n",
    "## Level 1 = Task 4\n",
    "#### Task: Online Delivery\n",
    "- Determine the percentage of restaurants that offer online delivery.\n",
    "- Compare the average ratings of restaurants with and without online delivery.\n",
    "\n",
    "# ................................................................\n",
    "\n",
    "## Level 2 = Task 1\n",
    "#### Task: Restaurant Ratings\n",
    "- Analyze the distribution of aggregate ratings and determine the most common rating range.\n",
    "- Calculate the average number of votes received by restaurants.\n",
    "\n",
    "## Level 2 = Task 2\n",
    "#### Task: Cuisine Combination\n",
    "- Identify the most common combinations of cuisines in the dataset.\n",
    "- Determine if certain cuisine combinations tend to have higher ratings.\n",
    "\n",
    "## Level 2 = Task 3\n",
    "#### Task: Geographic Analysis\n",
    "- Plot the locations of restaurants on a map using longitude and latitude coordinates.\n",
    "- Identify any patterns or clusters of restaurants in specific areas.\n",
    "\n",
    "\n",
    "## Level 2 = Task 4\n",
    "#### Task: Restaurant Chains\n",
    "- Identify if there are any restaurant chains present in the dataset.\n",
    "- Analyze the ratings and popularity of different restaurant chains.\n",
    "\n",
    "# ................................................................\n",
    "\n",
    "## Level 3 = Task 1\n",
    "#### Task: Restaurant Reviews\n",
    "- Analyze the text reviews to identify the most common positive and negative keywords.\n",
    "- Calculate the average length of reviews and explore if there is a relationship between review length and rating.\n",
    "\n",
    "\n",
    "## Level 3 = Task 2\n",
    "#### Task: Votes Analysis\n",
    "- Identify the restaurants with the highest and lowest number of votes.\n",
    "- Analyze if there is a correlation between the number of votes and the rating of a restaurant.\n",
    "\n",
    "## Level 3 = Task 3\n",
    "#### Task: Price Range vs. Online Delivery and\n",
    "- Table Booking Analyze if there is a relationship between the price range and the availability of online delivery and table booking.\n",
    "- Determine if higher-priced restaurants are more likely to offer these services.\n",
    "\n",
    ">>"
   ]
  },
  {
   "cell_type": "markdown",
   "id": "e25d88a7",
   "metadata": {},
   "source": [
    "# <font color = orange> 2. Dataset Understanding </font> "
   ]
  },
  {
   "cell_type": "code",
   "execution_count": 1,
   "id": "970dad78",
   "metadata": {},
   "outputs": [],
   "source": [
    "import pandas as pd\n",
    "import numpy as np\n",
    "import matplotlib.pyplot as plt\n",
    "import seaborn as sns"
   ]
  },
  {
   "cell_type": "code",
   "execution_count": 2,
   "id": "ae7c634d",
   "metadata": {},
   "outputs": [],
   "source": [
    "import warnings\n",
    "warnings.filterwarnings('ignore')"
   ]
  },
  {
   "cell_type": "code",
   "execution_count": 3,
   "id": "5cef4cbd",
   "metadata": {
    "scrolled": true
   },
   "outputs": [],
   "source": [
    "df = pd.read_csv(r'Dataset .csv')"
   ]
  },
  {
   "cell_type": "markdown",
   "id": "cb8d1759",
   "metadata": {},
   "source": [
    "## Exploratory Data Analysis"
   ]
  },
  {
   "cell_type": "code",
   "execution_count": 4,
   "id": "5123263e",
   "metadata": {},
   "outputs": [
    {
     "data": {
      "text/plain": [
       "Index(['Restaurant ID', 'Restaurant Name', 'Country Code', 'City', 'Address',\n",
       "       'Locality', 'Locality Verbose', 'Longitude', 'Latitude', 'Cuisines',\n",
       "       'Average Cost for two', 'Currency', 'Has Table booking',\n",
       "       'Has Online delivery', 'Is delivering now', 'Switch to order menu',\n",
       "       'Price range', 'Aggregate rating', 'Rating color', 'Rating text',\n",
       "       'Votes'],\n",
       "      dtype='object')"
      ]
     },
     "execution_count": 4,
     "metadata": {},
     "output_type": "execute_result"
    }
   ],
   "source": [
    "df.columns"
   ]
  },
  {
   "cell_type": "markdown",
   "id": "85fc596a",
   "metadata": {},
   "source": [
    "### Separate Continuous and Categorical columns"
   ]
  },
  {
   "cell_type": "code",
   "execution_count": 5,
   "id": "6a6d9d86",
   "metadata": {},
   "outputs": [],
   "source": [
    "continuous = ['Restaurant ID', 'Country Code', 'Longitude', 'Latitude', \n",
    "              'Average Cost for two', 'Aggregate rating', 'Votes']\n",
    "\n",
    "discrete_categorical = ['Restaurant Name', 'City', 'Address', 'Locality', \n",
    "                        'Locality Verbose', 'Cuisines', 'Currency',  \n",
    "                        'Has Table booking', 'Has Online delivery', \n",
    "                        'Is delivering now', 'Switch to order menu', \n",
    "                        'Rating color', 'Rating text']\n",
    " \n",
    "discrete_count = ['Price range']"
   ]
  },
  {
   "cell_type": "code",
   "execution_count": 6,
   "id": "8419519e",
   "metadata": {},
   "outputs": [
    {
     "data": {
      "text/plain": [
       "array([3, 4, 2, 1], dtype=int64)"
      ]
     },
     "execution_count": 6,
     "metadata": {},
     "output_type": "execute_result"
    }
   ],
   "source": [
    "df['Price range'].unique()"
   ]
  },
  {
   "cell_type": "code",
   "execution_count": 7,
   "id": "795b60dd",
   "metadata": {
    "scrolled": true
   },
   "outputs": [
    {
     "data": {
      "text/html": [
       "<div>\n",
       "<style scoped>\n",
       "    .dataframe tbody tr th:only-of-type {\n",
       "        vertical-align: middle;\n",
       "    }\n",
       "\n",
       "    .dataframe tbody tr th {\n",
       "        vertical-align: top;\n",
       "    }\n",
       "\n",
       "    .dataframe thead th {\n",
       "        text-align: right;\n",
       "    }\n",
       "</style>\n",
       "<table border=\"1\" class=\"dataframe\">\n",
       "  <thead>\n",
       "    <tr style=\"text-align: right;\">\n",
       "      <th></th>\n",
       "      <th>Restaurant ID</th>\n",
       "      <th>Restaurant Name</th>\n",
       "      <th>Country Code</th>\n",
       "      <th>City</th>\n",
       "      <th>Address</th>\n",
       "      <th>Locality</th>\n",
       "      <th>Locality Verbose</th>\n",
       "      <th>Longitude</th>\n",
       "      <th>Latitude</th>\n",
       "      <th>Cuisines</th>\n",
       "      <th>...</th>\n",
       "      <th>Currency</th>\n",
       "      <th>Has Table booking</th>\n",
       "      <th>Has Online delivery</th>\n",
       "      <th>Is delivering now</th>\n",
       "      <th>Switch to order menu</th>\n",
       "      <th>Price range</th>\n",
       "      <th>Aggregate rating</th>\n",
       "      <th>Rating color</th>\n",
       "      <th>Rating text</th>\n",
       "      <th>Votes</th>\n",
       "    </tr>\n",
       "  </thead>\n",
       "  <tbody>\n",
       "    <tr>\n",
       "      <th>0</th>\n",
       "      <td>6317637</td>\n",
       "      <td>Le Petit Souffle</td>\n",
       "      <td>162</td>\n",
       "      <td>Makati City</td>\n",
       "      <td>Third Floor, Century City Mall, Kalayaan Avenu...</td>\n",
       "      <td>Century City Mall, Poblacion, Makati City</td>\n",
       "      <td>Century City Mall, Poblacion, Makati City, Mak...</td>\n",
       "      <td>121.027535</td>\n",
       "      <td>14.565443</td>\n",
       "      <td>French, Japanese, Desserts</td>\n",
       "      <td>...</td>\n",
       "      <td>Botswana Pula(P)</td>\n",
       "      <td>Yes</td>\n",
       "      <td>No</td>\n",
       "      <td>No</td>\n",
       "      <td>No</td>\n",
       "      <td>3</td>\n",
       "      <td>4.8</td>\n",
       "      <td>Dark Green</td>\n",
       "      <td>Excellent</td>\n",
       "      <td>314</td>\n",
       "    </tr>\n",
       "    <tr>\n",
       "      <th>1</th>\n",
       "      <td>6304287</td>\n",
       "      <td>Izakaya Kikufuji</td>\n",
       "      <td>162</td>\n",
       "      <td>Makati City</td>\n",
       "      <td>Little Tokyo, 2277 Chino Roces Avenue, Legaspi...</td>\n",
       "      <td>Little Tokyo, Legaspi Village, Makati City</td>\n",
       "      <td>Little Tokyo, Legaspi Village, Makati City, Ma...</td>\n",
       "      <td>121.014101</td>\n",
       "      <td>14.553708</td>\n",
       "      <td>Japanese</td>\n",
       "      <td>...</td>\n",
       "      <td>Botswana Pula(P)</td>\n",
       "      <td>Yes</td>\n",
       "      <td>No</td>\n",
       "      <td>No</td>\n",
       "      <td>No</td>\n",
       "      <td>3</td>\n",
       "      <td>4.5</td>\n",
       "      <td>Dark Green</td>\n",
       "      <td>Excellent</td>\n",
       "      <td>591</td>\n",
       "    </tr>\n",
       "  </tbody>\n",
       "</table>\n",
       "<p>2 rows × 21 columns</p>\n",
       "</div>"
      ],
      "text/plain": [
       "   Restaurant ID   Restaurant Name  Country Code         City  \\\n",
       "0        6317637  Le Petit Souffle           162  Makati City   \n",
       "1        6304287  Izakaya Kikufuji           162  Makati City   \n",
       "\n",
       "                                             Address  \\\n",
       "0  Third Floor, Century City Mall, Kalayaan Avenu...   \n",
       "1  Little Tokyo, 2277 Chino Roces Avenue, Legaspi...   \n",
       "\n",
       "                                     Locality  \\\n",
       "0   Century City Mall, Poblacion, Makati City   \n",
       "1  Little Tokyo, Legaspi Village, Makati City   \n",
       "\n",
       "                                    Locality Verbose   Longitude   Latitude  \\\n",
       "0  Century City Mall, Poblacion, Makati City, Mak...  121.027535  14.565443   \n",
       "1  Little Tokyo, Legaspi Village, Makati City, Ma...  121.014101  14.553708   \n",
       "\n",
       "                     Cuisines  ...          Currency Has Table booking  \\\n",
       "0  French, Japanese, Desserts  ...  Botswana Pula(P)               Yes   \n",
       "1                    Japanese  ...  Botswana Pula(P)               Yes   \n",
       "\n",
       "  Has Online delivery Is delivering now Switch to order menu Price range  \\\n",
       "0                  No                No                   No           3   \n",
       "1                  No                No                   No           3   \n",
       "\n",
       "   Aggregate rating  Rating color Rating text Votes  \n",
       "0               4.8    Dark Green   Excellent   314  \n",
       "1               4.5    Dark Green   Excellent   591  \n",
       "\n",
       "[2 rows x 21 columns]"
      ]
     },
     "execution_count": 7,
     "metadata": {},
     "output_type": "execute_result"
    }
   ],
   "source": [
    "df.head(2)"
   ]
  },
  {
   "cell_type": "code",
   "execution_count": 8,
   "id": "f9dba22f",
   "metadata": {},
   "outputs": [
    {
     "name": "stdout",
     "output_type": "stream",
     "text": [
      "<class 'pandas.core.frame.DataFrame'>\n",
      "RangeIndex: 9551 entries, 0 to 9550\n",
      "Data columns (total 21 columns):\n",
      " #   Column                Non-Null Count  Dtype  \n",
      "---  ------                --------------  -----  \n",
      " 0   Restaurant ID         9551 non-null   int64  \n",
      " 1   Restaurant Name       9551 non-null   object \n",
      " 2   Country Code          9551 non-null   int64  \n",
      " 3   City                  9551 non-null   object \n",
      " 4   Address               9551 non-null   object \n",
      " 5   Locality              9551 non-null   object \n",
      " 6   Locality Verbose      9551 non-null   object \n",
      " 7   Longitude             9551 non-null   float64\n",
      " 8   Latitude              9551 non-null   float64\n",
      " 9   Cuisines              9542 non-null   object \n",
      " 10  Average Cost for two  9551 non-null   int64  \n",
      " 11  Currency              9551 non-null   object \n",
      " 12  Has Table booking     9551 non-null   object \n",
      " 13  Has Online delivery   9551 non-null   object \n",
      " 14  Is delivering now     9551 non-null   object \n",
      " 15  Switch to order menu  9551 non-null   object \n",
      " 16  Price range           9551 non-null   int64  \n",
      " 17  Aggregate rating      9551 non-null   float64\n",
      " 18  Rating color          9551 non-null   object \n",
      " 19  Rating text           9551 non-null   object \n",
      " 20  Votes                 9551 non-null   int64  \n",
      "dtypes: float64(3), int64(5), object(13)\n",
      "memory usage: 1.5+ MB\n"
     ]
    }
   ],
   "source": [
    "df.info()"
   ]
  },
  {
   "cell_type": "code",
   "execution_count": 9,
   "id": "fb726289",
   "metadata": {},
   "outputs": [
    {
     "data": {
      "text/plain": [
       "(9551, 21)"
      ]
     },
     "execution_count": 9,
     "metadata": {},
     "output_type": "execute_result"
    }
   ],
   "source": [
    "df.shape"
   ]
  },
  {
   "cell_type": "markdown",
   "id": "f2e31369",
   "metadata": {},
   "source": [
    "# <font color = orange> 3. Dataset Cleaning </font> "
   ]
  },
  {
   "cell_type": "code",
   "execution_count": 10,
   "id": "17257e85",
   "metadata": {},
   "outputs": [
    {
     "data": {
      "text/plain": [
       "Index(['Restaurant ID', 'Restaurant Name', 'Country Code', 'City', 'Address',\n",
       "       'Locality', 'Locality Verbose', 'Longitude', 'Latitude', 'Cuisines',\n",
       "       'Average Cost for two', 'Currency', 'Has Table booking',\n",
       "       'Has Online delivery', 'Is delivering now', 'Switch to order menu',\n",
       "       'Price range', 'Aggregate rating', 'Rating color', 'Rating text',\n",
       "       'Votes'],\n",
       "      dtype='object')"
      ]
     },
     "execution_count": 10,
     "metadata": {},
     "output_type": "execute_result"
    }
   ],
   "source": [
    "df.columns"
   ]
  },
  {
   "cell_type": "code",
   "execution_count": 11,
   "id": "37facee6",
   "metadata": {},
   "outputs": [
    {
     "data": {
      "text/plain": [
       "0"
      ]
     },
     "execution_count": 11,
     "metadata": {},
     "output_type": "execute_result"
    }
   ],
   "source": [
    "df.duplicated().sum()"
   ]
  },
  {
   "cell_type": "code",
   "execution_count": 12,
   "id": "96e8fec5",
   "metadata": {},
   "outputs": [],
   "source": [
    "df.drop_duplicates(inplace=True)"
   ]
  },
  {
   "cell_type": "markdown",
   "id": "d4eed51d",
   "metadata": {},
   "source": [
    "## <font color = aqua> (Continuous) \"Country Code\" column data cleaning </font> "
   ]
  },
  {
   "cell_type": "code",
   "execution_count": 13,
   "id": "8f3ab672",
   "metadata": {},
   "outputs": [
    {
     "data": {
      "text/plain": [
       "dtype('int64')"
      ]
     },
     "execution_count": 13,
     "metadata": {},
     "output_type": "execute_result"
    }
   ],
   "source": [
    "# check data type \n",
    "df['Country Code'].dtypes"
   ]
  },
  {
   "cell_type": "code",
   "execution_count": 14,
   "id": "d0ba4efb",
   "metadata": {},
   "outputs": [
    {
     "data": {
      "text/plain": [
       "array([162,  30, 216,  14,  37, 184, 214,   1,  94, 148, 215, 166, 189,\n",
       "       191, 208], dtype=int64)"
      ]
     },
     "execution_count": 14,
     "metadata": {},
     "output_type": "execute_result"
    }
   ],
   "source": [
    "# wrong data or not\n",
    "df['Country Code'].unique()"
   ]
  },
  {
   "cell_type": "code",
   "execution_count": 15,
   "id": "851b9d5f",
   "metadata": {},
   "outputs": [
    {
     "data": {
      "text/plain": [
       "array([162,  30, 216,  14,  37, 184, 214,   1,  94, 148, 215, 166, 189,\n",
       "       191, 208], dtype=int64)"
      ]
     },
     "execution_count": 15,
     "metadata": {},
     "output_type": "execute_result"
    }
   ],
   "source": [
    "df['Country Code'].unique()"
   ]
  },
  {
   "cell_type": "markdown",
   "id": "ac6b6d63",
   "metadata": {},
   "source": [
    "##### in unique value, we can see, we don't have any wrong data"
   ]
  },
  {
   "cell_type": "code",
   "execution_count": 16,
   "id": "44d31199",
   "metadata": {},
   "outputs": [
    {
     "data": {
      "text/plain": [
       "dtype('int64')"
      ]
     },
     "execution_count": 16,
     "metadata": {},
     "output_type": "execute_result"
    }
   ],
   "source": [
    "# wrong data type or not\n",
    "df['Country Code'].dtype"
   ]
  },
  {
   "cell_type": "markdown",
   "id": "2afd828a",
   "metadata": {},
   "source": [
    "##### as we can also see, the data type is correct, we don't to change datatype"
   ]
  },
  {
   "cell_type": "code",
   "execution_count": 17,
   "id": "e1d8a0ec",
   "metadata": {},
   "outputs": [
    {
     "data": {
      "text/plain": [
       "0"
      ]
     },
     "execution_count": 17,
     "metadata": {},
     "output_type": "execute_result"
    }
   ],
   "source": [
    "# is there any missing value or not\n",
    "df['Country Code'].isnull().sum()"
   ]
  },
  {
   "cell_type": "markdown",
   "id": "fab59a0b",
   "metadata": {},
   "source": [
    "##### no, in our dataset, we don't have any missing values"
   ]
  },
  {
   "cell_type": "code",
   "execution_count": 18,
   "id": "ed5795fd",
   "metadata": {
    "scrolled": false
   },
   "outputs": [
    {
     "data": {
      "image/png": "[encoded data removed]",
      "text/plain": [
       "<Figure size 640x480 with 1 Axes>"
      ]
     },
     "metadata": {},
     "output_type": "display_data"
    }
   ],
   "source": [
    "# do we have any outliers or not\n",
    "import matplotlib.pyplot as plt\n",
    "import seaborn as sns\n",
    "sns.boxplot(x=df['Country Code'])\n",
    "plt.show()"
   ]
  },
  {
   "cell_type": "markdown",
   "id": "32cdfbec",
   "metadata": {},
   "source": [
    "#### yes, in Country Code, we have outliers but we don't need to remove these outliers because this column is not important for us."
   ]
  },
  {
   "cell_type": "markdown",
   "id": "f205be40",
   "metadata": {},
   "source": [
    "## <font color = aqua> (Categorical) \"Restaurant Name\" Code column data cleaning </font> "
   ]
  },
  {
   "cell_type": "code",
   "execution_count": 19,
   "id": "94573beb",
   "metadata": {},
   "outputs": [
    {
     "data": {
      "text/plain": [
       "dtype('O')"
      ]
     },
     "execution_count": 19,
     "metadata": {},
     "output_type": "execute_result"
    }
   ],
   "source": [
    "# check data type \n",
    "df['City'].dtypes"
   ]
  },
  {
   "cell_type": "code",
   "execution_count": 20,
   "id": "17c6de1d",
   "metadata": {},
   "outputs": [
    {
     "data": {
      "text/plain": [
       "0"
      ]
     },
     "execution_count": 20,
     "metadata": {},
     "output_type": "execute_result"
    }
   ],
   "source": [
    "df['City'].isnull().sum()"
   ]
  },
  {
   "cell_type": "code",
   "execution_count": 21,
   "id": "16ba6691",
   "metadata": {},
   "outputs": [
    {
     "data": {
      "text/plain": [
       "array(['Le Petit Souffle', 'Izakaya Kikufuji', 'Heat - Edsa Shangri-La',\n",
       "       ..., 'Huqqa', 'A���k Kahve', \"Walter's Coffee Roastery\"],\n",
       "      dtype=object)"
      ]
     },
     "execution_count": 21,
     "metadata": {},
     "output_type": "execute_result"
    }
   ],
   "source": [
    "df['Restaurant Name'].unique()"
   ]
  },
  {
   "cell_type": "code",
   "execution_count": 22,
   "id": "5d067572",
   "metadata": {},
   "outputs": [
    {
     "data": {
      "text/plain": [
       "7446"
      ]
     },
     "execution_count": 22,
     "metadata": {},
     "output_type": "execute_result"
    }
   ],
   "source": [
    "df['Restaurant Name'].nunique()"
   ]
  },
  {
   "cell_type": "code",
   "execution_count": 23,
   "id": "bc8659ca",
   "metadata": {},
   "outputs": [
    {
     "data": {
      "text/plain": [
       "0               Le Petit Souffle\n",
       "1               Izakaya Kikufuji\n",
       "2         Heat - Edsa Shangri-La\n",
       "3                           Ooma\n",
       "4                    Sambo Kojin\n",
       "                  ...           \n",
       "9546                 Naml۱ Gurme\n",
       "9547                Ceviz A��ac۱\n",
       "9548                       Huqqa\n",
       "9549                 A���k Kahve\n",
       "9550    Walter's Coffee Roastery\n",
       "Name: Restaurant Name, Length: 9551, dtype: object"
      ]
     },
     "execution_count": 23,
     "metadata": {},
     "output_type": "execute_result"
    }
   ],
   "source": [
    "df['Restaurant Name']"
   ]
  },
  {
   "cell_type": "code",
   "execution_count": 24,
   "id": "b1f7b1e6",
   "metadata": {
    "scrolled": false
   },
   "outputs": [
    {
     "data": {
      "text/plain": [
       "0               Le Petit Souffle\n",
       "1               Izakaya Kikufuji\n",
       "2         Heat - Edsa Shangri-La\n",
       "3                           Ooma\n",
       "4                    Sambo Kojin\n",
       "                  ...           \n",
       "9546                 Naml۱ Gurme\n",
       "9547                  Ceviz Aac۱\n",
       "9548                       Huqqa\n",
       "9549                    Ak Kahve\n",
       "9550    Walter's Coffee Roastery\n",
       "Name: Restaurant Name, Length: 9551, dtype: object"
      ]
     },
     "execution_count": 24,
     "metadata": {},
     "output_type": "execute_result"
    }
   ],
   "source": [
    "df['Restaurant Name'] = df['Restaurant Name'].str.replace('�', '')\n",
    "df['Restaurant Name']"
   ]
  },
  {
   "cell_type": "markdown",
   "id": "262ead58",
   "metadata": {},
   "source": [
    "## <font color = aqua> (Categorical) \"City\" column data cleaning </font> "
   ]
  },
  {
   "cell_type": "code",
   "execution_count": 25,
   "id": "27ea4ee2",
   "metadata": {},
   "outputs": [
    {
     "data": {
      "text/plain": [
       "dtype('O')"
      ]
     },
     "execution_count": 25,
     "metadata": {},
     "output_type": "execute_result"
    }
   ],
   "source": [
    "# check data type \n",
    "df['City'].dtypes"
   ]
  },
  {
   "cell_type": "code",
   "execution_count": 26,
   "id": "529eac49",
   "metadata": {},
   "outputs": [
    {
     "data": {
      "text/plain": [
       "0"
      ]
     },
     "execution_count": 26,
     "metadata": {},
     "output_type": "execute_result"
    }
   ],
   "source": [
    "# check for the missing value\n",
    "df['City'].isnull().sum()"
   ]
  },
  {
   "cell_type": "code",
   "execution_count": 27,
   "id": "21394b4f",
   "metadata": {},
   "outputs": [
    {
     "data": {
      "text/plain": [
       "0            Makati City\n",
       "1            Makati City\n",
       "2       Mandaluyong City\n",
       "3       Mandaluyong City\n",
       "4       Mandaluyong City\n",
       "              ...       \n",
       "9546             stanbul\n",
       "9547             stanbul\n",
       "9548             stanbul\n",
       "9549             stanbul\n",
       "9550             stanbul\n",
       "Name: City, Length: 9551, dtype: object"
      ]
     },
     "execution_count": 27,
     "metadata": {},
     "output_type": "execute_result"
    }
   ],
   "source": [
    "df['City'] = df['City'].str.replace('�', '')\n",
    "df['City']"
   ]
  },
  {
   "cell_type": "code",
   "execution_count": 28,
   "id": "8c76e9bd",
   "metadata": {
    "scrolled": true
   },
   "outputs": [],
   "source": [
    "#for name in df['City']:\n",
    "    #print(name.replace('�', ''))"
   ]
  },
  {
   "cell_type": "markdown",
   "id": "c929746e",
   "metadata": {},
   "source": [
    "## <font color = aqua> (Categorical) \"Address\" column data cleaning </font> "
   ]
  },
  {
   "cell_type": "code",
   "execution_count": 29,
   "id": "ad94e73e",
   "metadata": {},
   "outputs": [
    {
     "data": {
      "text/plain": [
       "dtype('O')"
      ]
     },
     "execution_count": 29,
     "metadata": {},
     "output_type": "execute_result"
    }
   ],
   "source": [
    "# check data type \n",
    "df['Address'].dtypes"
   ]
  },
  {
   "cell_type": "code",
   "execution_count": 30,
   "id": "a9b947b5",
   "metadata": {},
   "outputs": [
    {
     "data": {
      "text/plain": [
       "0"
      ]
     },
     "execution_count": 30,
     "metadata": {},
     "output_type": "execute_result"
    }
   ],
   "source": [
    "df['Address'].isnull().sum()"
   ]
  },
  {
   "cell_type": "code",
   "execution_count": 31,
   "id": "2c8443fd",
   "metadata": {},
   "outputs": [
    {
     "data": {
      "text/plain": [
       "0       Third Floor, Century City Mall, Kalayaan Avenu...\n",
       "1       Little Tokyo, 2277 Chino Roces Avenue, Legaspi...\n",
       "2       Edsa Shangri-La, 1 Garden Way, Ortigas, Mandal...\n",
       "3       Third Floor, Mega Fashion Hall, SM Megamall, O...\n",
       "4       Third Floor, Mega Atrium, SM Megamall, Ortigas...\n",
       "                              ...                        \n",
       "9546    Kemanke Karamustafa Paa Mahallesi, R۱ht۱m Cadd...\n",
       "9547    Kouyolu Mahallesi, Muhittin st_nda Caddesi, No...\n",
       "9548    Kuru_eme Mahallesi, Muallim Naci Caddesi, No 5...\n",
       "9549    Kuru_eme Mahallesi, Muallim Naci Caddesi, No 6...\n",
       "9550    Cafeaa Mahallesi, Bademalt۱ Sokak, No 21/B, Ka...\n",
       "Name: Address, Length: 9551, dtype: object"
      ]
     },
     "execution_count": 31,
     "metadata": {},
     "output_type": "execute_result"
    }
   ],
   "source": [
    "df['Address'] = df['Address'].str.replace('�', '')\n",
    "df['Address']"
   ]
  },
  {
   "cell_type": "markdown",
   "id": "42a7d68d",
   "metadata": {},
   "source": [
    "## <font color = aqua> (Categorical) \"Locality\" column data cleaning </font> "
   ]
  },
  {
   "cell_type": "code",
   "execution_count": 32,
   "id": "4c953aa5",
   "metadata": {},
   "outputs": [
    {
     "data": {
      "text/plain": [
       "dtype('O')"
      ]
     },
     "execution_count": 32,
     "metadata": {},
     "output_type": "execute_result"
    }
   ],
   "source": [
    "# check data type \n",
    "df['Locality'].dtypes"
   ]
  },
  {
   "cell_type": "code",
   "execution_count": 33,
   "id": "48cfbe0d",
   "metadata": {},
   "outputs": [
    {
     "data": {
      "text/plain": [
       "0"
      ]
     },
     "execution_count": 33,
     "metadata": {},
     "output_type": "execute_result"
    }
   ],
   "source": [
    "df['Locality'].isnull().sum()"
   ]
  },
  {
   "cell_type": "code",
   "execution_count": 34,
   "id": "e3bea63f",
   "metadata": {},
   "outputs": [
    {
     "data": {
      "text/plain": [
       "0        Century City Mall, Poblacion, Makati City\n",
       "1       Little Tokyo, Legaspi Village, Makati City\n",
       "2       Edsa Shangri-La, Ortigas, Mandaluyong City\n",
       "3           SM Megamall, Ortigas, Mandaluyong City\n",
       "4           SM Megamall, Ortigas, Mandaluyong City\n",
       "                           ...                    \n",
       "9546                                       Karak_y\n",
       "9547                                       Kouyolu\n",
       "9548                                      Kuru_eme\n",
       "9549                                      Kuru_eme\n",
       "9550                                          Moda\n",
       "Name: Locality, Length: 9551, dtype: object"
      ]
     },
     "execution_count": 34,
     "metadata": {},
     "output_type": "execute_result"
    }
   ],
   "source": [
    "df['Locality'] = df['Locality'].str.replace('�', '')\n",
    "df['Locality']"
   ]
  },
  {
   "cell_type": "markdown",
   "id": "8d2eee49",
   "metadata": {},
   "source": [
    "## <font color = aqua> (Categorical) \"Locality Verbose\" column data cleaning </font> "
   ]
  },
  {
   "cell_type": "code",
   "execution_count": 35,
   "id": "d646585d",
   "metadata": {},
   "outputs": [
    {
     "data": {
      "text/plain": [
       "dtype('O')"
      ]
     },
     "execution_count": 35,
     "metadata": {},
     "output_type": "execute_result"
    }
   ],
   "source": [
    "# check data type \n",
    "df['Locality Verbose'].dtypes"
   ]
  },
  {
   "cell_type": "code",
   "execution_count": 36,
   "id": "3b1af1bf",
   "metadata": {},
   "outputs": [
    {
     "data": {
      "text/plain": [
       "0"
      ]
     },
     "execution_count": 36,
     "metadata": {},
     "output_type": "execute_result"
    }
   ],
   "source": [
    "df['Locality Verbose'].isnull().sum()"
   ]
  },
  {
   "cell_type": "code",
   "execution_count": 37,
   "id": "43f9646f",
   "metadata": {},
   "outputs": [
    {
     "data": {
      "text/plain": [
       "0       Century City Mall, Poblacion, Makati City, Mak...\n",
       "1       Little Tokyo, Legaspi Village, Makati City, Ma...\n",
       "2       Edsa Shangri-La, Ortigas, Mandaluyong City, Ma...\n",
       "3       SM Megamall, Ortigas, Mandaluyong City, Mandal...\n",
       "4       SM Megamall, Ortigas, Mandaluyong City, Mandal...\n",
       "                              ...                        \n",
       "9546                                     Karak_y, stanbul\n",
       "9547                                     Kouyolu, stanbul\n",
       "9548                                    Kuru_eme, stanbul\n",
       "9549                                    Kuru_eme, stanbul\n",
       "9550                                        Moda, stanbul\n",
       "Name: Locality Verbose, Length: 9551, dtype: object"
      ]
     },
     "execution_count": 37,
     "metadata": {},
     "output_type": "execute_result"
    }
   ],
   "source": [
    "df['Locality Verbose'] = df['Locality Verbose'].str.replace('�', '')\n",
    "df['Locality Verbose']"
   ]
  },
  {
   "cell_type": "markdown",
   "id": "e6fc622b",
   "metadata": {},
   "source": [
    "## <font color = aqua> (Continuous)  \"Longitude and Latitude\" column data cleaning </font> "
   ]
  },
  {
   "cell_type": "code",
   "execution_count": 38,
   "id": "5b75459c",
   "metadata": {},
   "outputs": [
    {
     "data": {
      "text/plain": [
       "array([121.027535  , 121.014101  , 121.056831  , ...,  29.03464001,\n",
       "        29.036019  ,  29.02601603])"
      ]
     },
     "execution_count": 38,
     "metadata": {},
     "output_type": "execute_result"
    }
   ],
   "source": [
    "# check if there are any uniques values are given\n",
    "df['Longitude'].unique()"
   ]
  },
  {
   "cell_type": "code",
   "execution_count": 39,
   "id": "86d1537c",
   "metadata": {},
   "outputs": [
    {
     "data": {
      "text/plain": [
       "dtype('float64')"
      ]
     },
     "execution_count": 39,
     "metadata": {},
     "output_type": "execute_result"
    }
   ],
   "source": [
    "# check data type \n",
    "df['Longitude'].dtypes"
   ]
  },
  {
   "cell_type": "code",
   "execution_count": 40,
   "id": "057c3d61",
   "metadata": {},
   "outputs": [
    {
     "data": {
      "text/html": [
       "<div>\n",
       "<style scoped>\n",
       "    .dataframe tbody tr th:only-of-type {\n",
       "        vertical-align: middle;\n",
       "    }\n",
       "\n",
       "    .dataframe tbody tr th {\n",
       "        vertical-align: top;\n",
       "    }\n",
       "\n",
       "    .dataframe thead th {\n",
       "        text-align: right;\n",
       "    }\n",
       "</style>\n",
       "<table border=\"1\" class=\"dataframe\">\n",
       "  <thead>\n",
       "    <tr style=\"text-align: right;\">\n",
       "      <th></th>\n",
       "      <th>Restaurant ID</th>\n",
       "      <th>Restaurant Name</th>\n",
       "      <th>Country Code</th>\n",
       "      <th>City</th>\n",
       "      <th>Address</th>\n",
       "      <th>Locality</th>\n",
       "      <th>Locality Verbose</th>\n",
       "      <th>Longitude</th>\n",
       "      <th>Latitude</th>\n",
       "      <th>Cuisines</th>\n",
       "      <th>...</th>\n",
       "      <th>Currency</th>\n",
       "      <th>Has Table booking</th>\n",
       "      <th>Has Online delivery</th>\n",
       "      <th>Is delivering now</th>\n",
       "      <th>Switch to order menu</th>\n",
       "      <th>Price range</th>\n",
       "      <th>Aggregate rating</th>\n",
       "      <th>Rating color</th>\n",
       "      <th>Rating text</th>\n",
       "      <th>Votes</th>\n",
       "    </tr>\n",
       "  </thead>\n",
       "  <tbody>\n",
       "    <tr>\n",
       "      <th>0</th>\n",
       "      <td>6317637</td>\n",
       "      <td>Le Petit Souffle</td>\n",
       "      <td>162</td>\n",
       "      <td>Makati City</td>\n",
       "      <td>Third Floor, Century City Mall, Kalayaan Avenu...</td>\n",
       "      <td>Century City Mall, Poblacion, Makati City</td>\n",
       "      <td>Century City Mall, Poblacion, Makati City, Mak...</td>\n",
       "      <td>121.027535</td>\n",
       "      <td>14.565443</td>\n",
       "      <td>French, Japanese, Desserts</td>\n",
       "      <td>...</td>\n",
       "      <td>Botswana Pula(P)</td>\n",
       "      <td>Yes</td>\n",
       "      <td>No</td>\n",
       "      <td>No</td>\n",
       "      <td>No</td>\n",
       "      <td>3</td>\n",
       "      <td>4.8</td>\n",
       "      <td>Dark Green</td>\n",
       "      <td>Excellent</td>\n",
       "      <td>314</td>\n",
       "    </tr>\n",
       "    <tr>\n",
       "      <th>1</th>\n",
       "      <td>6304287</td>\n",
       "      <td>Izakaya Kikufuji</td>\n",
       "      <td>162</td>\n",
       "      <td>Makati City</td>\n",
       "      <td>Little Tokyo, 2277 Chino Roces Avenue, Legaspi...</td>\n",
       "      <td>Little Tokyo, Legaspi Village, Makati City</td>\n",
       "      <td>Little Tokyo, Legaspi Village, Makati City, Ma...</td>\n",
       "      <td>121.014101</td>\n",
       "      <td>14.553708</td>\n",
       "      <td>Japanese</td>\n",
       "      <td>...</td>\n",
       "      <td>Botswana Pula(P)</td>\n",
       "      <td>Yes</td>\n",
       "      <td>No</td>\n",
       "      <td>No</td>\n",
       "      <td>No</td>\n",
       "      <td>3</td>\n",
       "      <td>4.5</td>\n",
       "      <td>Dark Green</td>\n",
       "      <td>Excellent</td>\n",
       "      <td>591</td>\n",
       "    </tr>\n",
       "  </tbody>\n",
       "</table>\n",
       "<p>2 rows × 21 columns</p>\n",
       "</div>"
      ],
      "text/plain": [
       "   Restaurant ID   Restaurant Name  Country Code         City  \\\n",
       "0        6317637  Le Petit Souffle           162  Makati City   \n",
       "1        6304287  Izakaya Kikufuji           162  Makati City   \n",
       "\n",
       "                                             Address  \\\n",
       "0  Third Floor, Century City Mall, Kalayaan Avenu...   \n",
       "1  Little Tokyo, 2277 Chino Roces Avenue, Legaspi...   \n",
       "\n",
       "                                     Locality  \\\n",
       "0   Century City Mall, Poblacion, Makati City   \n",
       "1  Little Tokyo, Legaspi Village, Makati City   \n",
       "\n",
       "                                    Locality Verbose   Longitude   Latitude  \\\n",
       "0  Century City Mall, Poblacion, Makati City, Mak...  121.027535  14.565443   \n",
       "1  Little Tokyo, Legaspi Village, Makati City, Ma...  121.014101  14.553708   \n",
       "\n",
       "                     Cuisines  ...          Currency Has Table booking  \\\n",
       "0  French, Japanese, Desserts  ...  Botswana Pula(P)               Yes   \n",
       "1                    Japanese  ...  Botswana Pula(P)               Yes   \n",
       "\n",
       "  Has Online delivery Is delivering now Switch to order menu Price range  \\\n",
       "0                  No                No                   No           3   \n",
       "1                  No                No                   No           3   \n",
       "\n",
       "   Aggregate rating  Rating color Rating text Votes  \n",
       "0               4.8    Dark Green   Excellent   314  \n",
       "1               4.5    Dark Green   Excellent   591  \n",
       "\n",
       "[2 rows x 21 columns]"
      ]
     },
     "execution_count": 40,
     "metadata": {},
     "output_type": "execute_result"
    }
   ],
   "source": [
    "df['Longitude'] = df['Longitude'].astype('float')\n",
    "df.head(2)"
   ]
  },
  {
   "cell_type": "code",
   "execution_count": 41,
   "id": "0849c0e9",
   "metadata": {},
   "outputs": [
    {
     "data": {
      "text/plain": [
       "0"
      ]
     },
     "execution_count": 41,
     "metadata": {},
     "output_type": "execute_result"
    }
   ],
   "source": [
    "df['Longitude'].isnull().sum()"
   ]
  },
  {
   "cell_type": "code",
   "execution_count": 42,
   "id": "9d64d5b9",
   "metadata": {},
   "outputs": [
    {
     "data": {
      "text/plain": [
       "0"
      ]
     },
     "execution_count": 42,
     "metadata": {},
     "output_type": "execute_result"
    }
   ],
   "source": [
    "df['Latitude'].isnull().sum()"
   ]
  },
  {
   "cell_type": "code",
   "execution_count": 43,
   "id": "47ec412d",
   "metadata": {},
   "outputs": [
    {
     "data": {
      "image/png": "[encoded data removed]",
      "text/plain": [
       "<Figure size 400x300 with 1 Axes>"
      ]
     },
     "metadata": {},
     "output_type": "display_data"
    }
   ],
   "source": [
    "import matplotlib.pyplot as plt\n",
    "import seaborn as sns\n",
    "plt.figure(figsize=(4, 3))\n",
    "sns.boxplot(x=df['Longitude'])\n",
    "plt.show()"
   ]
  },
  {
   "cell_type": "markdown",
   "id": "0e4687e0",
   "metadata": {},
   "source": [
    "## <font color = aqua> (Categorical)  \"Cuisines\" column data cleaning </font> "
   ]
  },
  {
   "cell_type": "code",
   "execution_count": 44,
   "id": "2f913a4d",
   "metadata": {},
   "outputs": [
    {
     "data": {
      "text/plain": [
       "dtype('O')"
      ]
     },
     "execution_count": 44,
     "metadata": {},
     "output_type": "execute_result"
    }
   ],
   "source": [
    "# check data type \n",
    "df['Cuisines'].dtypes"
   ]
  },
  {
   "cell_type": "code",
   "execution_count": 45,
   "id": "d5d011a8",
   "metadata": {},
   "outputs": [
    {
     "data": {
      "text/plain": [
       "9"
      ]
     },
     "execution_count": 45,
     "metadata": {},
     "output_type": "execute_result"
    }
   ],
   "source": [
    "# check missing values\n",
    "df['Cuisines'].isnull().sum()"
   ]
  },
  {
   "cell_type": "code",
   "execution_count": 46,
   "id": "618d4de9",
   "metadata": {
    "scrolled": true
   },
   "outputs": [
    {
     "data": {
      "text/plain": [
       "0             French, Japanese, Desserts\n",
       "1                               Japanese\n",
       "2       Seafood, Asian, Filipino, Indian\n",
       "3                        Japanese, Sushi\n",
       "4                       Japanese, Korean\n",
       "                      ...               \n",
       "9546                             Turkish\n",
       "9547     World Cuisine, Patisserie, Cafe\n",
       "9548              Italian, World Cuisine\n",
       "9549                     Restaurant Cafe\n",
       "9550                                Cafe\n",
       "Name: Cuisines, Length: 9551, dtype: object"
      ]
     },
     "execution_count": 46,
     "metadata": {},
     "output_type": "execute_result"
    }
   ],
   "source": [
    "df['Cuisines'] = df['Cuisines'].fillna(df['Cuisines'].mode()[0])\n",
    "df['Cuisines']"
   ]
  },
  {
   "cell_type": "code",
   "execution_count": 47,
   "id": "157023b3",
   "metadata": {},
   "outputs": [
    {
     "data": {
      "text/plain": [
       "0"
      ]
     },
     "execution_count": 47,
     "metadata": {},
     "output_type": "execute_result"
    }
   ],
   "source": [
    "df['Cuisines'].isnull().sum()"
   ]
  },
  {
   "cell_type": "markdown",
   "id": "518da532",
   "metadata": {},
   "source": [
    "##### now, here we have removed all the missing values"
   ]
  },
  {
   "cell_type": "code",
   "execution_count": 48,
   "id": "b16f95ff",
   "metadata": {},
   "outputs": [
    {
     "data": {
      "text/plain": [
       "0             French, Japanese, Desserts\n",
       "1                               Japanese\n",
       "2       Seafood, Asian, Filipino, Indian\n",
       "3                        Japanese, Sushi\n",
       "4                       Japanese, Korean\n",
       "                      ...               \n",
       "9546                             Turkish\n",
       "9547     World Cuisine, Patisserie, Cafe\n",
       "9548              Italian, World Cuisine\n",
       "9549                     Restaurant Cafe\n",
       "9550                                Cafe\n",
       "Name: Cuisines, Length: 9551, dtype: object"
      ]
     },
     "execution_count": 48,
     "metadata": {},
     "output_type": "execute_result"
    }
   ],
   "source": [
    "# clean data\n",
    "df['Cuisines'] = df['Cuisines'].str.replace('�', '')\n",
    "df['Cuisines']"
   ]
  },
  {
   "cell_type": "markdown",
   "id": "5bb94c50",
   "metadata": {},
   "source": [
    "## <font color = aqua> (Continuous) \"Average Cost for two\" column data cleaning </font> "
   ]
  },
  {
   "cell_type": "code",
   "execution_count": 49,
   "id": "f02bc4e6",
   "metadata": {},
   "outputs": [
    {
     "data": {
      "text/plain": [
       "dtype('int64')"
      ]
     },
     "execution_count": 49,
     "metadata": {},
     "output_type": "execute_result"
    }
   ],
   "source": [
    "# check data type \n",
    "df['Average Cost for two'].dtypes"
   ]
  },
  {
   "cell_type": "code",
   "execution_count": 50,
   "id": "d0d23350",
   "metadata": {},
   "outputs": [
    {
     "data": {
      "text/plain": [
       "0"
      ]
     },
     "execution_count": 50,
     "metadata": {},
     "output_type": "execute_result"
    }
   ],
   "source": [
    "# check any missing value\n",
    "df['Average Cost for two'].isnull().sum()"
   ]
  },
  {
   "cell_type": "markdown",
   "id": "24898d7b",
   "metadata": {},
   "source": [
    "here, we don't have missing values"
   ]
  },
  {
   "cell_type": "markdown",
   "id": "6d14871f",
   "metadata": {},
   "source": [
    "## <font color = aqua> (Categorical) \"Currency\" column data cleaning </font> "
   ]
  },
  {
   "cell_type": "code",
   "execution_count": 51,
   "id": "c1e8857a",
   "metadata": {},
   "outputs": [
    {
     "data": {
      "text/plain": [
       "dtype('O')"
      ]
     },
     "execution_count": 51,
     "metadata": {},
     "output_type": "execute_result"
    }
   ],
   "source": [
    "# check data type \n",
    "df['Currency'].dtypes"
   ]
  },
  {
   "cell_type": "code",
   "execution_count": 52,
   "id": "2388d4ed",
   "metadata": {},
   "outputs": [
    {
     "data": {
      "text/plain": [
       "0"
      ]
     },
     "execution_count": 52,
     "metadata": {},
     "output_type": "execute_result"
    }
   ],
   "source": [
    "# check any missing value\n",
    "df['Currency'].isnull().sum()"
   ]
  },
  {
   "cell_type": "markdown",
   "id": "297928f1",
   "metadata": {},
   "source": [
    "## <font color = aqua> (Categorical) \"Has Table booking\" column data cleaning </font> "
   ]
  },
  {
   "cell_type": "code",
   "execution_count": 53,
   "id": "da92a2a5",
   "metadata": {},
   "outputs": [
    {
     "data": {
      "text/plain": [
       "dtype('O')"
      ]
     },
     "execution_count": 53,
     "metadata": {},
     "output_type": "execute_result"
    }
   ],
   "source": [
    "# check data type \n",
    "df['Has Table booking'].dtypes"
   ]
  },
  {
   "cell_type": "code",
   "execution_count": 54,
   "id": "8af33519",
   "metadata": {},
   "outputs": [
    {
     "data": {
      "text/plain": [
       "0"
      ]
     },
     "execution_count": 54,
     "metadata": {},
     "output_type": "execute_result"
    }
   ],
   "source": [
    "# check any missing value\n",
    "df['Has Table booking'].isnull().sum()"
   ]
  },
  {
   "cell_type": "markdown",
   "id": "66550980",
   "metadata": {},
   "source": [
    "## <font color = aqua> (Categorical) \"Has Online delivery\" column data cleaning </font> "
   ]
  },
  {
   "cell_type": "code",
   "execution_count": 55,
   "id": "2eb6a943",
   "metadata": {},
   "outputs": [
    {
     "data": {
      "text/plain": [
       "dtype('O')"
      ]
     },
     "execution_count": 55,
     "metadata": {},
     "output_type": "execute_result"
    }
   ],
   "source": [
    "# check data type \n",
    "df['Has Online delivery'].dtypes"
   ]
  },
  {
   "cell_type": "code",
   "execution_count": 56,
   "id": "2a7d10d1",
   "metadata": {},
   "outputs": [
    {
     "data": {
      "text/plain": [
       "0"
      ]
     },
     "execution_count": 56,
     "metadata": {},
     "output_type": "execute_result"
    }
   ],
   "source": [
    "# check any missing value\n",
    "df['Has Online delivery'].isnull().sum()"
   ]
  },
  {
   "cell_type": "markdown",
   "id": "41c73fe4",
   "metadata": {},
   "source": [
    "## <font color = aqua> (Categorical) \"Is delivering now\" column data cleaning </font> "
   ]
  },
  {
   "cell_type": "code",
   "execution_count": 57,
   "id": "aebfc67d",
   "metadata": {},
   "outputs": [
    {
     "data": {
      "text/plain": [
       "dtype('O')"
      ]
     },
     "execution_count": 57,
     "metadata": {},
     "output_type": "execute_result"
    }
   ],
   "source": [
    "# check data type \n",
    "df['Is delivering now'].dtypes"
   ]
  },
  {
   "cell_type": "code",
   "execution_count": 58,
   "id": "5c3c4e26",
   "metadata": {},
   "outputs": [
    {
     "data": {
      "text/plain": [
       "0"
      ]
     },
     "execution_count": 58,
     "metadata": {},
     "output_type": "execute_result"
    }
   ],
   "source": [
    "# check any missing value\n",
    "df['Is delivering now'].isnull().sum()"
   ]
  },
  {
   "cell_type": "markdown",
   "id": "42893f84",
   "metadata": {},
   "source": [
    "## <font color = aqua> (Categorical) \"Switch to order menu\" column data cleaning </font> "
   ]
  },
  {
   "cell_type": "code",
   "execution_count": 59,
   "id": "21009552",
   "metadata": {},
   "outputs": [
    {
     "data": {
      "text/plain": [
       "dtype('O')"
      ]
     },
     "execution_count": 59,
     "metadata": {},
     "output_type": "execute_result"
    }
   ],
   "source": [
    "# check data type \n",
    "df['Switch to order menu'].dtypes"
   ]
  },
  {
   "cell_type": "code",
   "execution_count": 60,
   "id": "5f230e1e",
   "metadata": {},
   "outputs": [
    {
     "data": {
      "text/plain": [
       "0"
      ]
     },
     "execution_count": 60,
     "metadata": {},
     "output_type": "execute_result"
    }
   ],
   "source": [
    "# check any missing value\n",
    "df['Switch to order menu'].isnull().sum()"
   ]
  },
  {
   "cell_type": "markdown",
   "id": "d7f2359a",
   "metadata": {},
   "source": [
    "## <font color = aqua> (Discrete_count) \"Price Range\" column data cleaning </font> "
   ]
  },
  {
   "cell_type": "code",
   "execution_count": 61,
   "id": "2878920b",
   "metadata": {},
   "outputs": [
    {
     "data": {
      "text/plain": [
       "dtype('int64')"
      ]
     },
     "execution_count": 61,
     "metadata": {},
     "output_type": "execute_result"
    }
   ],
   "source": [
    "# check data type \n",
    "df['Price range'].dtypes"
   ]
  },
  {
   "cell_type": "code",
   "execution_count": 62,
   "id": "2a707bfe",
   "metadata": {},
   "outputs": [
    {
     "data": {
      "text/plain": [
       "0"
      ]
     },
     "execution_count": 62,
     "metadata": {},
     "output_type": "execute_result"
    }
   ],
   "source": [
    "# check any missing value\n",
    "df['Price range'].isnull().sum()"
   ]
  },
  {
   "cell_type": "markdown",
   "id": "1d9b7cf5",
   "metadata": {},
   "source": [
    "## <font color = aqua> (Continuous) \"Aggregate Rating\" column data cleaning </font> "
   ]
  },
  {
   "cell_type": "code",
   "execution_count": 63,
   "id": "c01f8207",
   "metadata": {},
   "outputs": [
    {
     "data": {
      "text/plain": [
       "dtype('float64')"
      ]
     },
     "execution_count": 63,
     "metadata": {},
     "output_type": "execute_result"
    }
   ],
   "source": [
    "# check data type\n",
    "df['Aggregate rating'].dtypes"
   ]
  },
  {
   "cell_type": "code",
   "execution_count": 64,
   "id": "9dc20f22",
   "metadata": {},
   "outputs": [
    {
     "data": {
      "text/plain": [
       "0       4.8\n",
       "1       4.5\n",
       "2       4.4\n",
       "3       4.9\n",
       "4       4.8\n",
       "       ... \n",
       "9546    4.1\n",
       "9547    4.2\n",
       "9548    3.7\n",
       "9549    4.0\n",
       "9550    4.0\n",
       "Name: Aggregate rating, Length: 9551, dtype: float64"
      ]
     },
     "execution_count": 64,
     "metadata": {},
     "output_type": "execute_result"
    }
   ],
   "source": [
    "df['Aggregate rating'] = df['Aggregate rating'].astype('float')\n",
    "df['Aggregate rating']"
   ]
  },
  {
   "cell_type": "code",
   "execution_count": 65,
   "id": "ebcd86a0",
   "metadata": {},
   "outputs": [
    {
     "data": {
      "text/plain": [
       "0"
      ]
     },
     "execution_count": 65,
     "metadata": {},
     "output_type": "execute_result"
    }
   ],
   "source": [
    "# check any missing value\n",
    "df['Aggregate rating'].isnull().sum()"
   ]
  },
  {
   "cell_type": "code",
   "execution_count": 66,
   "id": "864e7829",
   "metadata": {
    "scrolled": true
   },
   "outputs": [
    {
     "data": {
      "text/plain": [
       "0.0    2148\n",
       "3.2     522\n",
       "3.1     519\n",
       "3.4     498\n",
       "3.3     483\n",
       "3.5     480\n",
       "3.0     468\n",
       "3.6     458\n",
       "3.7     427\n",
       "3.8     400\n",
       "2.9     381\n",
       "3.9     335\n",
       "2.8     315\n",
       "4.1     274\n",
       "4.0     266\n",
       "2.7     250\n",
       "4.2     221\n",
       "2.6     191\n",
       "4.3     174\n",
       "4.4     144\n",
       "2.5     110\n",
       "4.5      95\n",
       "2.4      87\n",
       "4.6      78\n",
       "4.9      61\n",
       "2.3      47\n",
       "4.7      42\n",
       "2.2      27\n",
       "4.8      25\n",
       "2.1      15\n",
       "2.0       7\n",
       "1.9       2\n",
       "1.8       1\n",
       "Name: Aggregate rating, dtype: int64"
      ]
     },
     "execution_count": 66,
     "metadata": {},
     "output_type": "execute_result"
    }
   ],
   "source": [
    "df['Aggregate rating'].value_counts()"
   ]
  },
  {
   "cell_type": "code",
   "execution_count": 67,
   "id": "0f1d6826",
   "metadata": {
    "scrolled": true
   },
   "outputs": [
    {
     "data": {
      "image/png": "[encoded data removed]",
      "text/plain": [
       "<Figure size 400x300 with 1 Axes>"
      ]
     },
     "metadata": {},
     "output_type": "display_data"
    }
   ],
   "source": [
    "import matplotlib.pyplot as plt\n",
    "import seaborn as sns\n",
    "plt.figure(figsize=(4, 3))\n",
    "sns.boxplot(x=df['Aggregate rating'])\n",
    "plt.show()"
   ]
  },
  {
   "cell_type": "markdown",
   "id": "330d1e9c",
   "metadata": {},
   "source": [
    "## <font color = aqua> (Categorical) \"Rating color\" column data cleaning </font> "
   ]
  },
  {
   "cell_type": "code",
   "execution_count": 68,
   "id": "1a568f62",
   "metadata": {},
   "outputs": [
    {
     "data": {
      "text/plain": [
       "dtype('O')"
      ]
     },
     "execution_count": 68,
     "metadata": {},
     "output_type": "execute_result"
    }
   ],
   "source": [
    "# check data type\n",
    "df['Rating color'].dtypes"
   ]
  },
  {
   "cell_type": "code",
   "execution_count": 69,
   "id": "536e008d",
   "metadata": {},
   "outputs": [
    {
     "data": {
      "text/plain": [
       "0"
      ]
     },
     "execution_count": 69,
     "metadata": {},
     "output_type": "execute_result"
    }
   ],
   "source": [
    "# check any missing value\n",
    "df['Rating color'].isnull().sum()"
   ]
  },
  {
   "cell_type": "markdown",
   "id": "fada5410",
   "metadata": {},
   "source": [
    "## <font color = aqua> (Categorical) \"Rating text\" column data cleaning </font> "
   ]
  },
  {
   "cell_type": "code",
   "execution_count": 70,
   "id": "c5b82836",
   "metadata": {},
   "outputs": [
    {
     "data": {
      "text/plain": [
       "dtype('O')"
      ]
     },
     "execution_count": 70,
     "metadata": {},
     "output_type": "execute_result"
    }
   ],
   "source": [
    "# check data type\n",
    "df['Rating text'].dtypes"
   ]
  },
  {
   "cell_type": "code",
   "execution_count": 71,
   "id": "042099d4",
   "metadata": {},
   "outputs": [
    {
     "data": {
      "text/plain": [
       "0"
      ]
     },
     "execution_count": 71,
     "metadata": {},
     "output_type": "execute_result"
    }
   ],
   "source": [
    "# check any missing value\n",
    "df['Rating text'].isnull().sum()"
   ]
  },
  {
   "cell_type": "markdown",
   "id": "3b1b9b1c",
   "metadata": {},
   "source": [
    "## <font color = aqua> (Continuous) \"Votes\" column data cleaning </font> "
   ]
  },
  {
   "cell_type": "code",
   "execution_count": 72,
   "id": "a5f09ac5",
   "metadata": {},
   "outputs": [
    {
     "data": {
      "text/plain": [
       "dtype('int64')"
      ]
     },
     "execution_count": 72,
     "metadata": {},
     "output_type": "execute_result"
    }
   ],
   "source": [
    "# check data type\n",
    "df['Votes'].dtypes"
   ]
  },
  {
   "cell_type": "code",
   "execution_count": 73,
   "id": "3c04463e",
   "metadata": {},
   "outputs": [
    {
     "data": {
      "text/plain": [
       "0"
      ]
     },
     "execution_count": 73,
     "metadata": {},
     "output_type": "execute_result"
    }
   ],
   "source": [
    "# check any missing value\n",
    "df['Votes'].isnull().sum()"
   ]
  },
  {
   "cell_type": "code",
   "execution_count": 74,
   "id": "afc77aa8",
   "metadata": {},
   "outputs": [
    {
     "data": {
      "text/plain": [
       "0      1094\n",
       "1       483\n",
       "2       327\n",
       "3       244\n",
       "4       207\n",
       "       ... \n",
       "615       1\n",
       "538       1\n",
       "823       1\n",
       "650       1\n",
       "901       1\n",
       "Name: Votes, Length: 1012, dtype: int64"
      ]
     },
     "execution_count": 74,
     "metadata": {},
     "output_type": "execute_result"
    }
   ],
   "source": [
    "df['Votes'].value_counts()"
   ]
  },
  {
   "cell_type": "code",
   "execution_count": 75,
   "id": "49c49ec9",
   "metadata": {},
   "outputs": [
    {
     "data": {
      "image/png": "[encoded data removed]",
      "text/plain": [
       "<Figure size 400x300 with 1 Axes>"
      ]
     },
     "metadata": {},
     "output_type": "display_data"
    }
   ],
   "source": [
    "import matplotlib.pyplot as plt\n",
    "import seaborn as sns\n",
    "plt.figure(figsize=(4, 3))\n",
    "sns.boxplot(x=df['Votes'])\n",
    "plt.show()"
   ]
  },
  {
   "cell_type": "markdown",
   "id": "f9216462",
   "metadata": {},
   "source": [
    "## Drop unimportant columns"
   ]
  },
  {
   "cell_type": "code",
   "execution_count": 76,
   "id": "d278f04b",
   "metadata": {},
   "outputs": [],
   "source": [
    "df.drop(['Country Code', 'Address', 'Address', 'Locality',\n",
    "       'Locality Verbose', 'Currency', 'Is delivering now', 'Average Cost for two', 'Switch to order menu', 'Rating color'], axis=1, inplace=True)"
   ]
  },
  {
   "cell_type": "code",
   "execution_count": 77,
   "id": "2b26b47e",
   "metadata": {},
   "outputs": [
    {
     "data": {
      "text/html": [
       "<div>\n",
       "<style scoped>\n",
       "    .dataframe tbody tr th:only-of-type {\n",
       "        vertical-align: middle;\n",
       "    }\n",
       "\n",
       "    .dataframe tbody tr th {\n",
       "        vertical-align: top;\n",
       "    }\n",
       "\n",
       "    .dataframe thead th {\n",
       "        text-align: right;\n",
       "    }\n",
       "</style>\n",
       "<table border=\"1\" class=\"dataframe\">\n",
       "  <thead>\n",
       "    <tr style=\"text-align: right;\">\n",
       "      <th></th>\n",
       "      <th>Restaurant ID</th>\n",
       "      <th>Restaurant Name</th>\n",
       "      <th>City</th>\n",
       "      <th>Longitude</th>\n",
       "      <th>Latitude</th>\n",
       "      <th>Cuisines</th>\n",
       "      <th>Has Table booking</th>\n",
       "      <th>Has Online delivery</th>\n",
       "      <th>Price range</th>\n",
       "      <th>Aggregate rating</th>\n",
       "      <th>Rating text</th>\n",
       "      <th>Votes</th>\n",
       "    </tr>\n",
       "  </thead>\n",
       "  <tbody>\n",
       "    <tr>\n",
       "      <th>0</th>\n",
       "      <td>6317637</td>\n",
       "      <td>Le Petit Souffle</td>\n",
       "      <td>Makati City</td>\n",
       "      <td>121.027535</td>\n",
       "      <td>14.565443</td>\n",
       "      <td>French, Japanese, Desserts</td>\n",
       "      <td>Yes</td>\n",
       "      <td>No</td>\n",
       "      <td>3</td>\n",
       "      <td>4.8</td>\n",
       "      <td>Excellent</td>\n",
       "      <td>314</td>\n",
       "    </tr>\n",
       "  </tbody>\n",
       "</table>\n",
       "</div>"
      ],
      "text/plain": [
       "   Restaurant ID   Restaurant Name         City   Longitude   Latitude  \\\n",
       "0        6317637  Le Petit Souffle  Makati City  121.027535  14.565443   \n",
       "\n",
       "                     Cuisines Has Table booking Has Online delivery  \\\n",
       "0  French, Japanese, Desserts               Yes                  No   \n",
       "\n",
       "   Price range  Aggregate rating Rating text  Votes  \n",
       "0            3               4.8   Excellent    314  "
      ]
     },
     "execution_count": 77,
     "metadata": {},
     "output_type": "execute_result"
    }
   ],
   "source": [
    "df.head(1)"
   ]
  },
  {
   "cell_type": "code",
   "execution_count": 78,
   "id": "b259621b",
   "metadata": {},
   "outputs": [
    {
     "data": {
      "text/plain": [
       "Index(['Restaurant ID', 'Restaurant Name', 'City', 'Longitude', 'Latitude',\n",
       "       'Cuisines', 'Has Table booking', 'Has Online delivery', 'Price range',\n",
       "       'Aggregate rating', 'Rating text', 'Votes'],\n",
       "      dtype='object')"
      ]
     },
     "execution_count": 78,
     "metadata": {},
     "output_type": "execute_result"
    }
   ],
   "source": [
    "df.columns"
   ]
  },
  {
   "cell_type": "markdown",
   "id": "9b6f8569",
   "metadata": {},
   "source": [
    "## Replace columns name"
   ]
  },
  {
   "cell_type": "code",
   "execution_count": 79,
   "id": "5d7eed1b",
   "metadata": {},
   "outputs": [
    {
     "data": {
      "text/html": [
       "<div>\n",
       "<style scoped>\n",
       "    .dataframe tbody tr th:only-of-type {\n",
       "        vertical-align: middle;\n",
       "    }\n",
       "\n",
       "    .dataframe tbody tr th {\n",
       "        vertical-align: top;\n",
       "    }\n",
       "\n",
       "    .dataframe thead th {\n",
       "        text-align: right;\n",
       "    }\n",
       "</style>\n",
       "<table border=\"1\" class=\"dataframe\">\n",
       "  <thead>\n",
       "    <tr style=\"text-align: right;\">\n",
       "      <th></th>\n",
       "      <th>Restaurant ID</th>\n",
       "      <th>Restaurant Name</th>\n",
       "      <th>City</th>\n",
       "      <th>Longitude</th>\n",
       "      <th>Latitude</th>\n",
       "      <th>Cuisines</th>\n",
       "      <th>Table_booking</th>\n",
       "      <th>Online_delivery</th>\n",
       "      <th>Price range</th>\n",
       "      <th>Aggregate rating</th>\n",
       "      <th>Rating text</th>\n",
       "      <th>Votes</th>\n",
       "    </tr>\n",
       "  </thead>\n",
       "  <tbody>\n",
       "    <tr>\n",
       "      <th>0</th>\n",
       "      <td>6317637</td>\n",
       "      <td>Le Petit Souffle</td>\n",
       "      <td>Makati City</td>\n",
       "      <td>121.027535</td>\n",
       "      <td>14.565443</td>\n",
       "      <td>French, Japanese, Desserts</td>\n",
       "      <td>Yes</td>\n",
       "      <td>No</td>\n",
       "      <td>3</td>\n",
       "      <td>4.8</td>\n",
       "      <td>Excellent</td>\n",
       "      <td>314</td>\n",
       "    </tr>\n",
       "  </tbody>\n",
       "</table>\n",
       "</div>"
      ],
      "text/plain": [
       "   Restaurant ID   Restaurant Name         City   Longitude   Latitude  \\\n",
       "0        6317637  Le Petit Souffle  Makati City  121.027535  14.565443   \n",
       "\n",
       "                     Cuisines Table_booking Online_delivery  Price range  \\\n",
       "0  French, Japanese, Desserts           Yes              No            3   \n",
       "\n",
       "   Aggregate rating Rating text  Votes  \n",
       "0               4.8   Excellent    314  "
      ]
     },
     "execution_count": 79,
     "metadata": {},
     "output_type": "execute_result"
    }
   ],
   "source": [
    "df.rename(columns = {'Has Online delivery': 'Online_delivery', 'Has Table booking':'Table_booking'}, inplace=True)\n",
    "df.head(1)"
   ]
  },
  {
   "cell_type": "markdown",
   "id": "1472fc9f",
   "metadata": {},
   "source": [
    "### After changes understand the given data again"
   ]
  },
  {
   "cell_type": "code",
   "execution_count": 80,
   "id": "6f089cb6",
   "metadata": {},
   "outputs": [
    {
     "data": {
      "text/plain": [
       "(9551, 12)"
      ]
     },
     "execution_count": 80,
     "metadata": {},
     "output_type": "execute_result"
    }
   ],
   "source": [
    "df.shape"
   ]
  },
  {
   "cell_type": "code",
   "execution_count": 81,
   "id": "d76d54ac",
   "metadata": {},
   "outputs": [
    {
     "data": {
      "text/plain": [
       "Index(['Restaurant ID', 'Restaurant Name', 'City', 'Longitude', 'Latitude',\n",
       "       'Cuisines', 'Table_booking', 'Online_delivery', 'Price range',\n",
       "       'Aggregate rating', 'Rating text', 'Votes'],\n",
       "      dtype='object')"
      ]
     },
     "execution_count": 81,
     "metadata": {},
     "output_type": "execute_result"
    }
   ],
   "source": [
    "df.columns"
   ]
  },
  {
   "cell_type": "code",
   "execution_count": 82,
   "id": "f92fa7ea",
   "metadata": {
    "scrolled": true
   },
   "outputs": [
    {
     "data": {
      "text/plain": [
       "Restaurant ID         int64\n",
       "Restaurant Name      object\n",
       "City                 object\n",
       "Longitude           float64\n",
       "Latitude            float64\n",
       "Cuisines             object\n",
       "Table_booking        object\n",
       "Online_delivery      object\n",
       "Price range           int64\n",
       "Aggregate rating    float64\n",
       "Rating text          object\n",
       "Votes                 int64\n",
       "dtype: object"
      ]
     },
     "execution_count": 82,
     "metadata": {},
     "output_type": "execute_result"
    }
   ],
   "source": [
    "df.dtypes"
   ]
  },
  {
   "cell_type": "code",
   "execution_count": 83,
   "id": "375a64f0",
   "metadata": {},
   "outputs": [
    {
     "name": "stdout",
     "output_type": "stream",
     "text": [
      "<class 'pandas.core.frame.DataFrame'>\n",
      "Int64Index: 9551 entries, 0 to 9550\n",
      "Data columns (total 12 columns):\n",
      " #   Column            Non-Null Count  Dtype  \n",
      "---  ------            --------------  -----  \n",
      " 0   Restaurant ID     9551 non-null   int64  \n",
      " 1   Restaurant Name   9551 non-null   object \n",
      " 2   City              9551 non-null   object \n",
      " 3   Longitude         9551 non-null   float64\n",
      " 4   Latitude          9551 non-null   float64\n",
      " 5   Cuisines          9551 non-null   object \n",
      " 6   Table_booking     9551 non-null   object \n",
      " 7   Online_delivery   9551 non-null   object \n",
      " 8   Price range       9551 non-null   int64  \n",
      " 9   Aggregate rating  9551 non-null   float64\n",
      " 10  Rating text       9551 non-null   object \n",
      " 11  Votes             9551 non-null   int64  \n",
      "dtypes: float64(3), int64(3), object(6)\n",
      "memory usage: 970.0+ KB\n"
     ]
    }
   ],
   "source": [
    "df.info()"
   ]
  },
  {
   "cell_type": "markdown",
   "id": "822212dd",
   "metadata": {},
   "source": [
    "### New columns name"
   ]
  },
  {
   "cell_type": "code",
   "execution_count": 84,
   "id": "b19420d8",
   "metadata": {},
   "outputs": [],
   "source": [
    "continuous = ['Restaurant ID', 'Longitude', 'Latitude', 'Aggregate rating', 'Votes']\n",
    "\n",
    "discrete_categorical = ['Restaurant Name', 'City', 'Cuisines',  \n",
    "                        'Table_booking', 'Online_delivery', \n",
    "                         'Rating text']\n",
    " \n",
    "discrete_count = ['Price range']"
   ]
  },
  {
   "cell_type": "code",
   "execution_count": 85,
   "id": "312f5ba4",
   "metadata": {
    "scrolled": true
   },
   "outputs": [
    {
     "data": {
      "text/html": [
       "<div>\n",
       "<style scoped>\n",
       "    .dataframe tbody tr th:only-of-type {\n",
       "        vertical-align: middle;\n",
       "    }\n",
       "\n",
       "    .dataframe tbody tr th {\n",
       "        vertical-align: top;\n",
       "    }\n",
       "\n",
       "    .dataframe thead th {\n",
       "        text-align: right;\n",
       "    }\n",
       "</style>\n",
       "<table border=\"1\" class=\"dataframe\">\n",
       "  <thead>\n",
       "    <tr style=\"text-align: right;\">\n",
       "      <th></th>\n",
       "      <th>Restaurant ID</th>\n",
       "      <th>Longitude</th>\n",
       "      <th>Latitude</th>\n",
       "      <th>Aggregate rating</th>\n",
       "      <th>Votes</th>\n",
       "    </tr>\n",
       "  </thead>\n",
       "  <tbody>\n",
       "    <tr>\n",
       "      <th>count</th>\n",
       "      <td>9.551000e+03</td>\n",
       "      <td>9551.000000</td>\n",
       "      <td>9551.000000</td>\n",
       "      <td>9551.000000</td>\n",
       "      <td>9551.000000</td>\n",
       "    </tr>\n",
       "    <tr>\n",
       "      <th>mean</th>\n",
       "      <td>9.051128e+06</td>\n",
       "      <td>64.126574</td>\n",
       "      <td>25.854381</td>\n",
       "      <td>2.666370</td>\n",
       "      <td>156.909748</td>\n",
       "    </tr>\n",
       "    <tr>\n",
       "      <th>std</th>\n",
       "      <td>8.791521e+06</td>\n",
       "      <td>41.467058</td>\n",
       "      <td>11.007935</td>\n",
       "      <td>1.516378</td>\n",
       "      <td>430.169145</td>\n",
       "    </tr>\n",
       "    <tr>\n",
       "      <th>min</th>\n",
       "      <td>5.300000e+01</td>\n",
       "      <td>-157.948486</td>\n",
       "      <td>-41.330428</td>\n",
       "      <td>0.000000</td>\n",
       "      <td>0.000000</td>\n",
       "    </tr>\n",
       "    <tr>\n",
       "      <th>25%</th>\n",
       "      <td>3.019625e+05</td>\n",
       "      <td>77.081343</td>\n",
       "      <td>28.478713</td>\n",
       "      <td>2.500000</td>\n",
       "      <td>5.000000</td>\n",
       "    </tr>\n",
       "    <tr>\n",
       "      <th>50%</th>\n",
       "      <td>6.004089e+06</td>\n",
       "      <td>77.191964</td>\n",
       "      <td>28.570469</td>\n",
       "      <td>3.200000</td>\n",
       "      <td>31.000000</td>\n",
       "    </tr>\n",
       "    <tr>\n",
       "      <th>75%</th>\n",
       "      <td>1.835229e+07</td>\n",
       "      <td>77.282006</td>\n",
       "      <td>28.642758</td>\n",
       "      <td>3.700000</td>\n",
       "      <td>131.000000</td>\n",
       "    </tr>\n",
       "    <tr>\n",
       "      <th>max</th>\n",
       "      <td>1.850065e+07</td>\n",
       "      <td>174.832089</td>\n",
       "      <td>55.976980</td>\n",
       "      <td>4.900000</td>\n",
       "      <td>10934.000000</td>\n",
       "    </tr>\n",
       "  </tbody>\n",
       "</table>\n",
       "</div>"
      ],
      "text/plain": [
       "       Restaurant ID    Longitude     Latitude  Aggregate rating         Votes\n",
       "count   9.551000e+03  9551.000000  9551.000000       9551.000000   9551.000000\n",
       "mean    9.051128e+06    64.126574    25.854381          2.666370    156.909748\n",
       "std     8.791521e+06    41.467058    11.007935          1.516378    430.169145\n",
       "min     5.300000e+01  -157.948486   -41.330428          0.000000      0.000000\n",
       "25%     3.019625e+05    77.081343    28.478713          2.500000      5.000000\n",
       "50%     6.004089e+06    77.191964    28.570469          3.200000     31.000000\n",
       "75%     1.835229e+07    77.282006    28.642758          3.700000    131.000000\n",
       "max     1.850065e+07   174.832089    55.976980          4.900000  10934.000000"
      ]
     },
     "execution_count": 85,
     "metadata": {},
     "output_type": "execute_result"
    }
   ],
   "source": [
    "df[continuous].describe()"
   ]
  },
  {
   "cell_type": "code",
   "execution_count": 86,
   "id": "e418e7b1",
   "metadata": {
    "scrolled": true
   },
   "outputs": [
    {
     "data": {
      "text/html": [
       "<div>\n",
       "<style scoped>\n",
       "    .dataframe tbody tr th:only-of-type {\n",
       "        vertical-align: middle;\n",
       "    }\n",
       "\n",
       "    .dataframe tbody tr th {\n",
       "        vertical-align: top;\n",
       "    }\n",
       "\n",
       "    .dataframe thead th {\n",
       "        text-align: right;\n",
       "    }\n",
       "</style>\n",
       "<table border=\"1\" class=\"dataframe\">\n",
       "  <thead>\n",
       "    <tr style=\"text-align: right;\">\n",
       "      <th></th>\n",
       "      <th>Restaurant Name</th>\n",
       "      <th>City</th>\n",
       "      <th>Cuisines</th>\n",
       "      <th>Table_booking</th>\n",
       "      <th>Online_delivery</th>\n",
       "      <th>Rating text</th>\n",
       "    </tr>\n",
       "  </thead>\n",
       "  <tbody>\n",
       "    <tr>\n",
       "      <th>count</th>\n",
       "      <td>9551</td>\n",
       "      <td>9551</td>\n",
       "      <td>9551</td>\n",
       "      <td>9551</td>\n",
       "      <td>9551</td>\n",
       "      <td>9551</td>\n",
       "    </tr>\n",
       "    <tr>\n",
       "      <th>unique</th>\n",
       "      <td>7446</td>\n",
       "      <td>141</td>\n",
       "      <td>1825</td>\n",
       "      <td>2</td>\n",
       "      <td>2</td>\n",
       "      <td>6</td>\n",
       "    </tr>\n",
       "    <tr>\n",
       "      <th>top</th>\n",
       "      <td>Cafe Coffee Day</td>\n",
       "      <td>New Delhi</td>\n",
       "      <td>North Indian</td>\n",
       "      <td>No</td>\n",
       "      <td>No</td>\n",
       "      <td>Average</td>\n",
       "    </tr>\n",
       "    <tr>\n",
       "      <th>freq</th>\n",
       "      <td>83</td>\n",
       "      <td>5473</td>\n",
       "      <td>945</td>\n",
       "      <td>8393</td>\n",
       "      <td>7100</td>\n",
       "      <td>3737</td>\n",
       "    </tr>\n",
       "  </tbody>\n",
       "</table>\n",
       "</div>"
      ],
      "text/plain": [
       "        Restaurant Name       City      Cuisines Table_booking  \\\n",
       "count              9551       9551          9551          9551   \n",
       "unique             7446        141          1825             2   \n",
       "top     Cafe Coffee Day  New Delhi  North Indian            No   \n",
       "freq                 83       5473           945          8393   \n",
       "\n",
       "       Online_delivery Rating text  \n",
       "count             9551        9551  \n",
       "unique               2           6  \n",
       "top                 No     Average  \n",
       "freq              7100        3737  "
      ]
     },
     "execution_count": 86,
     "metadata": {},
     "output_type": "execute_result"
    }
   ],
   "source": [
    "df[discrete_categorical].describe()"
   ]
  },
  {
   "cell_type": "code",
   "execution_count": 87,
   "id": "29d922cd",
   "metadata": {
    "scrolled": false
   },
   "outputs": [],
   "source": [
    "# df.describe(include='all')"
   ]
  },
  {
   "cell_type": "markdown",
   "id": "93b6c252",
   "metadata": {},
   "source": [
    "### Which columns are needed and which one not?"
   ]
  },
  {
   "cell_type": "code",
   "execution_count": 88,
   "id": "9634efdd",
   "metadata": {},
   "outputs": [],
   "source": [
    "removed_columns = ['Restaurant ID', 'Country Code', 'Address', 'Locality', \n",
    "                   'Locality Verbose',  'Average Cost for two', 'Currency', 'Is delivering now', \n",
    "                   'Switch to order menu', 'Rating color']\n",
    "\n",
    "needed_columns = ['Longitude', 'Latitude', 'Aggregate rating', 'Votes', 'Restaurant Name', \n",
    " 'City', 'Cuisines',  'Table_booking', 'Online_delivery',  'Rating text', 'Price range']"
   ]
  },
  {
   "cell_type": "markdown",
   "id": "c4ba224e",
   "metadata": {
    "scrolled": true
   },
   "source": [
    "# <font color = orange> Analysis for Business Problem Understanding </font> "
   ]
  },
  {
   "cell_type": "markdown",
   "id": "80813e60",
   "metadata": {},
   "source": [
    "## Level 1 = Task 1\n",
    "#### Task: Top Cuisines\n",
    "- Determine the top three most common cuisines in the dataset.\n",
    "- Calculate the percentage of restaurants that serve each of the top cuisines.\n"
   ]
  },
  {
   "cell_type": "markdown",
   "id": "d9574cb4",
   "metadata": {},
   "source": [
    "based on problem requirement which column and plots I am needed for analysis?\n",
    "\n",
    "columns name:\n",
    "1. Cuisines\n",
    "\n",
    "plots name: when we are analysing one column.\n",
    "1. hist plot\n",
    "2. Count plot\n",
    "3. Bar plot\n",
    "4. Box plot\n",
    "5. Violin plot"
   ]
  },
  {
   "cell_type": "code",
   "execution_count": 89,
   "id": "3e8a4240",
   "metadata": {},
   "outputs": [
    {
     "data": {
      "text/html": [
       "<div>\n",
       "<style scoped>\n",
       "    .dataframe tbody tr th:only-of-type {\n",
       "        vertical-align: middle;\n",
       "    }\n",
       "\n",
       "    .dataframe tbody tr th {\n",
       "        vertical-align: top;\n",
       "    }\n",
       "\n",
       "    .dataframe thead th {\n",
       "        text-align: right;\n",
       "    }\n",
       "</style>\n",
       "<table border=\"1\" class=\"dataframe\">\n",
       "  <thead>\n",
       "    <tr style=\"text-align: right;\">\n",
       "      <th></th>\n",
       "      <th>Restaurant ID</th>\n",
       "      <th>Restaurant Name</th>\n",
       "      <th>City</th>\n",
       "      <th>Longitude</th>\n",
       "      <th>Latitude</th>\n",
       "      <th>Cuisines</th>\n",
       "      <th>Table_booking</th>\n",
       "      <th>Online_delivery</th>\n",
       "      <th>Price range</th>\n",
       "      <th>Aggregate rating</th>\n",
       "      <th>Rating text</th>\n",
       "      <th>Votes</th>\n",
       "    </tr>\n",
       "  </thead>\n",
       "  <tbody>\n",
       "    <tr>\n",
       "      <th>0</th>\n",
       "      <td>6317637</td>\n",
       "      <td>Le Petit Souffle</td>\n",
       "      <td>Makati City</td>\n",
       "      <td>121.027535</td>\n",
       "      <td>14.565443</td>\n",
       "      <td>French, Japanese, Desserts</td>\n",
       "      <td>Yes</td>\n",
       "      <td>No</td>\n",
       "      <td>3</td>\n",
       "      <td>4.8</td>\n",
       "      <td>Excellent</td>\n",
       "      <td>314</td>\n",
       "    </tr>\n",
       "  </tbody>\n",
       "</table>\n",
       "</div>"
      ],
      "text/plain": [
       "   Restaurant ID   Restaurant Name         City   Longitude   Latitude  \\\n",
       "0        6317637  Le Petit Souffle  Makati City  121.027535  14.565443   \n",
       "\n",
       "                     Cuisines Table_booking Online_delivery  Price range  \\\n",
       "0  French, Japanese, Desserts           Yes              No            3   \n",
       "\n",
       "   Aggregate rating Rating text  Votes  \n",
       "0               4.8   Excellent    314  "
      ]
     },
     "execution_count": 89,
     "metadata": {},
     "output_type": "execute_result"
    }
   ],
   "source": [
    "df.head(1)"
   ]
  },
  {
   "cell_type": "code",
   "execution_count": 90,
   "id": "6d2d6054",
   "metadata": {
    "scrolled": true
   },
   "outputs": [
    {
     "data": {
      "text/plain": [
       "0          French, Japanese, Desserts\n",
       "1                            Japanese\n",
       "2    Seafood, Asian, Filipino, Indian\n",
       "3                     Japanese, Sushi\n",
       "4                    Japanese, Korean\n",
       "Name: Cuisines, dtype: object"
      ]
     },
     "execution_count": 90,
     "metadata": {},
     "output_type": "execute_result"
    }
   ],
   "source": [
    "df['Cuisines'].head()"
   ]
  },
  {
   "cell_type": "markdown",
   "id": "0e6a241d",
   "metadata": {},
   "source": [
    "### Determine the top three most common cuisines in the dataset."
   ]
  },
  {
   "cell_type": "code",
   "execution_count": 91,
   "id": "d6ca3dbb",
   "metadata": {},
   "outputs": [
    {
     "data": {
      "text/plain": [
       "array(['French, Japanese, Desserts', 'Japanese',\n",
       "       'Seafood, Asian, Filipino, Indian', ..., 'Burger, Izgara',\n",
       "       'World Cuisine, Patisserie, Cafe', 'Italian, World Cuisine'],\n",
       "      dtype=object)"
      ]
     },
     "execution_count": 91,
     "metadata": {},
     "output_type": "execute_result"
    }
   ],
   "source": [
    "df['Cuisines'].unique()"
   ]
  },
  {
   "cell_type": "code",
   "execution_count": 92,
   "id": "6a31114c",
   "metadata": {
    "scrolled": true
   },
   "outputs": [
    {
     "data": {
      "text/plain": [
       "North Indian                                             945\n",
       "North Indian, Chinese                                    511\n",
       "Chinese                                                  354\n",
       "Fast Food                                                354\n",
       "North Indian, Mughlai                                    334\n",
       "                                                        ... \n",
       "Bengali, Fast Food                                         1\n",
       "North Indian, Rajasthani, Asian                            1\n",
       "Chinese, Thai, Malaysian, Indonesian                       1\n",
       "Bakery, Desserts, North Indian, Bengali, South Indian      1\n",
       "Italian, World Cuisine                                     1\n",
       "Name: Cuisines, Length: 1825, dtype: int64"
      ]
     },
     "execution_count": 92,
     "metadata": {},
     "output_type": "execute_result"
    }
   ],
   "source": [
    "Count_Cuisines = df['Cuisines'].value_counts()\n",
    "Count_Cuisines"
   ]
  },
  {
   "cell_type": "code",
   "execution_count": 131,
   "id": "bcd99c0b",
   "metadata": {},
   "outputs": [
    {
     "name": "stdout",
     "output_type": "stream",
     "text": [
      "\"The most three Cuisines are:\"\n",
      "\n",
      " North Indian             945\n",
      "North Indian, Chinese    511\n",
      "Chinese                  354\n",
      "Name: Cuisines, dtype: int64\n"
     ]
    }
   ],
   "source": [
    "top_three_cuisines = Count_Cuisines.head(3)\n",
    "print('\"The most three Cuisines are:\"\\n\\n' ,top_three_cuisines)"
   ]
  },
  {
   "cell_type": "markdown",
   "id": "365165a0",
   "metadata": {},
   "source": [
    "As we can see based on our value_counts the most common three cuisines are **North Indian, Chinese**, and **Chinese**"
   ]
  },
  {
   "cell_type": "markdown",
   "id": "c8bd7b01",
   "metadata": {},
   "source": [
    "### Calculate the percentage of restaurants that serve each of the top cuisines."
   ]
  },
  {
   "cell_type": "code",
   "execution_count": 97,
   "id": "e0d7c23f",
   "metadata": {},
   "outputs": [
    {
     "data": {
      "text/plain": [
       "9551"
      ]
     },
     "execution_count": 97,
     "metadata": {},
     "output_type": "execute_result"
    }
   ],
   "source": [
    "df['Restaurant ID'].nunique()"
   ]
  },
  {
   "cell_type": "code",
   "execution_count": 99,
   "id": "dc8d546c",
   "metadata": {},
   "outputs": [
    {
     "data": {
      "text/plain": [
       "9551"
      ]
     },
     "execution_count": 99,
     "metadata": {},
     "output_type": "execute_result"
    }
   ],
   "source": [
    "number_of_Restaurant = len(df['Restaurant ID'])\n",
    "number_of_Restaurant"
   ]
  },
  {
   "cell_type": "code",
   "execution_count": 139,
   "id": "dba12707",
   "metadata": {},
   "outputs": [
    {
     "name": "stdout",
     "output_type": "stream",
     "text": [
      "\"The percentage of the Restaurant is:\"\n",
      "\n",
      " North Indian             9.894252\n",
      "North Indian, Chinese    5.350225\n",
      "Chinese                  3.706418\n",
      "Name: Cuisines, dtype: float64\n"
     ]
    }
   ],
   "source": [
    "percentage_Restaurant = (top_three_cuisines/number_of_Restaurant) * 100\n",
    "print('\"The percentage of the Restaurant is:\"\\n\\n' ,percentage_Restaurant)"
   ]
  },
  {
   "cell_type": "markdown",
   "id": "5e04006d",
   "metadata": {},
   "source": [
    ">\n",
    "## Level 1 = Task 2\n",
    "#### Task: City Analysis\n",
    "- Identify the city with the highest number of restaurants in the dataset.\n",
    "- Calculate the average rating for restaurants in each city.\n",
    "- Determine the city with the highest average rating."
   ]
  },
  {
   "cell_type": "markdown",
   "id": "6d756e69",
   "metadata": {},
   "source": [
    "### Identify the city with the highest number of restaurants in the dataset."
   ]
  },
  {
   "cell_type": "code",
   "execution_count": 106,
   "id": "4998f9b2",
   "metadata": {},
   "outputs": [
    {
     "data": {
      "text/plain": [
       "New Delhi           5473\n",
       "Gurgaon             1118\n",
       "Noida               1080\n",
       "Faridabad            251\n",
       "Ghaziabad             25\n",
       "                    ... \n",
       "Panchkula              1\n",
       "Mc Millan              1\n",
       "Mayfield               1\n",
       "Macedon                1\n",
       "Vineland Station       1\n",
       "Name: City, Length: 141, dtype: int64"
      ]
     },
     "execution_count": 106,
     "metadata": {},
     "output_type": "execute_result"
    }
   ],
   "source": [
    "count_city = df['City'].value_counts()\n",
    "count_city"
   ]
  },
  {
   "cell_type": "code",
   "execution_count": 138,
   "id": "dc6281a1",
   "metadata": {},
   "outputs": [
    {
     "name": "stdout",
     "output_type": "stream",
     "text": [
      "\"The city with highest number of Restaurant is:\"\n",
      "\n",
      " New Delhi    5473\n",
      "Name: City, dtype: int64\n"
     ]
    }
   ],
   "source": [
    "highest_Restaurant = count_city.head(1)\n",
    "print('\"The city with highest number of Restaurant is:\"\\n\\n' ,highest_Restaurant)"
   ]
  },
  {
   "cell_type": "markdown",
   "id": "1887b8c8",
   "metadata": {},
   "source": [
    "### Calculate the average rating for restaurants in each city."
   ]
  },
  {
   "cell_type": "code",
   "execution_count": 109,
   "id": "43f14b8f",
   "metadata": {
    "scrolled": true
   },
   "outputs": [
    {
     "data": {
      "text/plain": [
       "0            Makati City\n",
       "1            Makati City\n",
       "2       Mandaluyong City\n",
       "3       Mandaluyong City\n",
       "4       Mandaluyong City\n",
       "              ...       \n",
       "9546             stanbul\n",
       "9547             stanbul\n",
       "9548             stanbul\n",
       "9549             stanbul\n",
       "9550             stanbul\n",
       "Name: City, Length: 9551, dtype: object"
      ]
     },
     "execution_count": 109,
     "metadata": {},
     "output_type": "execute_result"
    }
   ],
   "source": [
    "df['City']"
   ]
  },
  {
   "cell_type": "code",
   "execution_count": 137,
   "id": "07b783ef",
   "metadata": {},
   "outputs": [
    {
     "name": "stdout",
     "output_type": "stream",
     "text": [
      "\"The average rating for each city Restaurant is:\"\n",
      "\n",
      " City\n",
      "Abu Dhabi          4.300000\n",
      "Agra               3.965000\n",
      "Ahmedabad          4.161905\n",
      "Albany             3.555000\n",
      "Allahabad          3.395000\n",
      "                     ...   \n",
      "Weirton            3.900000\n",
      "Wellington City    4.250000\n",
      "Winchester Bay     3.200000\n",
      "Yorkton            3.300000\n",
      "stanbul            4.292857\n",
      "Name: Aggregate rating, Length: 141, dtype: float64\n"
     ]
    }
   ],
   "source": [
    "avg_rating_Restaurant = df.groupby('City')['Aggregate rating'].mean()\n",
    "print('\"The average rating for each city Restaurant is:\"\\n\\n' ,avg_rating_Restaurant)"
   ]
  },
  {
   "cell_type": "markdown",
   "id": "0591e332",
   "metadata": {},
   "source": [
    "### Determine the city with the highest average rating."
   ]
  },
  {
   "cell_type": "code",
   "execution_count": 141,
   "id": "41c054e3",
   "metadata": {},
   "outputs": [
    {
     "name": "stdout",
     "output_type": "stream",
     "text": [
      "\"The city with highest average rating is:\"\n",
      "\n",
      " 4.9\n"
     ]
    }
   ],
   "source": [
    "highest_rating = avg_rating_Restaurant.max()\n",
    "print('\"The city with highest average rating is:\"\\n\\n' ,highest_rating)"
   ]
  },
  {
   "cell_type": "markdown",
   "id": "2c4b0a42",
   "metadata": {},
   "source": [
    ">\n",
    "## Level 1 = Task 3\n",
    "#### Task: Price Range Distribution\n",
    "- Create a histogram or bar chart to visualize the distribution of price ranges among the restaurants.\n",
    "- Calculate the percentage of restaurants in each price range category"
   ]
  },
  {
   "cell_type": "markdown",
   "id": "619c1ae3",
   "metadata": {},
   "source": [
    "### Create a histogram or bar chart to visualize the distribution of price ranges among the restaurants."
   ]
  },
  {
   "cell_type": "code",
   "execution_count": 202,
   "id": "181f7bb8",
   "metadata": {
    "scrolled": true
   },
   "outputs": [
    {
     "name": "stdout",
     "output_type": "stream",
     "text": [
      "3536 , 2311 , 1200 , 552\n"
     ]
    },
    {
     "data": {
      "image/png": "[encoded data removed]",
      "text/plain": [
       "<Figure size 400x300 with 1 Axes>"
      ]
     },
     "metadata": {},
     "output_type": "display_data"
    }
   ],
   "source": [
    "a = df[df['Price range']==1]['Restaurant Name'].nunique()\n",
    "b = df[df['Price range']==2]['Restaurant Name'].nunique()\n",
    "c = df[df['Price range']==3]['Restaurant Name'].nunique()\n",
    "d = df[df['Price range']==4]['Restaurant Name'].nunique()\n",
    "print(a, \",\", b, \",\", c, \",\", d)\n",
    "\n",
    "restaurant_prices = ['1', '2', '3', '4'] \n",
    "restaurant_counts = [3536, 2311, 1200, 552]\n",
    "plt.figure(figsize=(4, 3))\n",
    "plt.title('Price Distribution')\n",
    "plt.xlabel('restaurant_price_range')\n",
    "\n",
    "# this restaurant_counts have unique values not duplicates\n",
    "plt.ylabel('restaurant_counts')\n",
    "plt.bar(restaurant_prices, restaurant_counts)\n",
    "plt.show()"
   ]
  },
  {
   "cell_type": "markdown",
   "id": "e49da387",
   "metadata": {},
   "source": [
    "### Calculate the percentage of restaurants in each price range category"
   ]
  },
  {
   "cell_type": "code",
   "execution_count": 211,
   "id": "cfcbb38b",
   "metadata": {},
   "outputs": [
    {
     "data": {
      "text/plain": [
       "1    4444\n",
       "2    3113\n",
       "3    1408\n",
       "4     586\n",
       "Name: Price range, dtype: int64"
      ]
     },
     "execution_count": 211,
     "metadata": {},
     "output_type": "execute_result"
    }
   ],
   "source": [
    "price_range = df['Price range'].value_counts()\n",
    "price_range"
   ]
  },
  {
   "cell_type": "code",
   "execution_count": 212,
   "id": "31a92dfa",
   "metadata": {},
   "outputs": [
    {
     "data": {
      "text/plain": [
       "9551"
      ]
     },
     "execution_count": 212,
     "metadata": {},
     "output_type": "execute_result"
    }
   ],
   "source": [
    "number_of_Restaurant = len(df['Restaurant ID'])\n",
    "number_of_Restaurant"
   ]
  },
  {
   "cell_type": "code",
   "execution_count": 213,
   "id": "7a316bc7",
   "metadata": {},
   "outputs": [
    {
     "data": {
      "text/plain": [
       "1    46.529159\n",
       "2    32.593446\n",
       "3    14.741912\n",
       "4     6.135483\n",
       "Name: Price range, dtype: float64"
      ]
     },
     "execution_count": 213,
     "metadata": {},
     "output_type": "execute_result"
    }
   ],
   "source": [
    "percentage_of_Restaurant = (price_range/number_of_Restaurant) * 100\n",
    "percentage_of_Restaurant"
   ]
  },
  {
   "cell_type": "markdown",
   "id": "19f54c49",
   "metadata": {},
   "source": [
    ">\n",
    "## Level 1 = Task 4\n",
    "#### Task: Online Delivery\n",
    "- Determine the percentage of restaurants that offer online delivery.\n",
    "- Compare the average ratings of restaurants with and without online delivery."
   ]
  },
  {
   "cell_type": "markdown",
   "id": "6b1a0788",
   "metadata": {},
   "source": [
    "### Determine the percentage of restaurants that offer online delivery."
   ]
  },
  {
   "cell_type": "code",
   "execution_count": null,
   "id": "fbb2fc42",
   "metadata": {},
   "outputs": [],
   "source": []
  },
  {
   "cell_type": "code",
   "execution_count": null,
   "id": "59ff166c",
   "metadata": {},
   "outputs": [],
   "source": []
  },
  {
   "cell_type": "markdown",
   "id": "626a1611",
   "metadata": {},
   "source": [
    "### Compare the average ratings of restaurants with and without online delivery."
   ]
  },
  {
   "cell_type": "code",
   "execution_count": null,
   "id": "65a17c8f",
   "metadata": {},
   "outputs": [],
   "source": []
  },
  {
   "cell_type": "code",
   "execution_count": null,
   "id": "9de80374",
   "metadata": {},
   "outputs": [],
   "source": []
  },
  {
   "cell_type": "code",
   "execution_count": null,
   "id": "a4bc666b",
   "metadata": {},
   "outputs": [],
   "source": []
  },
  {
   "cell_type": "code",
   "execution_count": null,
   "id": "1c3296c3",
   "metadata": {},
   "outputs": [],
   "source": []
  },
  {
   "cell_type": "code",
   "execution_count": null,
   "id": "3fe815a2",
   "metadata": {},
   "outputs": [],
   "source": []
  },
  {
   "cell_type": "code",
   "execution_count": null,
   "id": "27205e35",
   "metadata": {},
   "outputs": [],
   "source": []
  },
  {
   "cell_type": "code",
   "execution_count": null,
   "id": "170a3341",
   "metadata": {},
   "outputs": [],
   "source": []
  },
  {
   "cell_type": "code",
   "execution_count": null,
   "id": "17311b69",
   "metadata": {},
   "outputs": [],
   "source": []
  },
  {
   "cell_type": "code",
   "execution_count": null,
   "id": "6c873640",
   "metadata": {},
   "outputs": [],
   "source": []
  },
  {
   "cell_type": "code",
   "execution_count": null,
   "id": "33288c15",
   "metadata": {},
   "outputs": [],
   "source": []
  },
  {
   "cell_type": "code",
   "execution_count": null,
   "id": "f446d340",
   "metadata": {},
   "outputs": [],
   "source": []
  },
  {
   "cell_type": "code",
   "execution_count": null,
   "id": "156bb6e5",
   "metadata": {},
   "outputs": [],
   "source": []
  },
  {
   "cell_type": "code",
   "execution_count": null,
   "id": "671c0827",
   "metadata": {},
   "outputs": [],
   "source": []
  },
  {
   "cell_type": "code",
   "execution_count": null,
   "id": "9cb43b4d",
   "metadata": {},
   "outputs": [],
   "source": []
  },
  {
   "cell_type": "code",
   "execution_count": null,
   "id": "20019ab2",
   "metadata": {},
   "outputs": [],
   "source": [
    "\n"
   ]
  }
 ],
 "metadata": {
  "kernelspec": {
   "display_name": "Python 3 (ipykernel)",
   "language": "python",
   "name": "python3"
  },
  "language_info": {
   "codemirror_mode": {
    "name": "ipython",
    "version": 3
   },
   "file_extension": ".py",
   "mimetype": "text/x-python",
   "name": "python",
   "nbconvert_exporter": "python",
   "pygments_lexer": "ipython3",
   "version": "3.11.5"
  }
 },
 "nbformat": 4,
 "nbformat_minor": 5
}
